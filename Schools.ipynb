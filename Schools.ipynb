{
 "cells": [
  {
   "cell_type": "markdown",
   "metadata": {},
   "source": [
    "# Analyzing NYC high schools via SAT Scores, Ratings, and Affordability \n"
   ]
  },
  {
   "cell_type": "code",
   "execution_count": 1,
   "metadata": {
    "scrolled": true
   },
   "outputs": [],
   "source": [
    "import matplotlib.pyplot as plt\n",
    "import numpy\n",
    "import os\n",
    "import re\n",
    "import pandas as pd\n",
    "from mpl_toolkits.basemap import Basemap\n",
    "try:\n",
    "    from inspect import cleandoc as dedent\n",
    "except ImportError:\n",
    "    from matplotlib.cbook import dedent\n",
    "data = {}\n",
    "\n",
    "data_files = [\n",
    "    \"ap_2010.csv\",\n",
    "    \"class_size.csv\",\n",
    "    \"demographics.csv\",\n",
    "    \"graduation.csv\",\n",
    "    \"hs_directory.csv\",\n",
    "    \"sat_results.csv\",\n",
    "    \"property.csv\"\n",
    "]\n",
    "\n",
    "\n",
    "for f in data_files:\n",
    "    d = pd.read_csv(\"{0}\".format(f))\n",
    "    data[f.replace(\".csv\", \"\")] = d\n",
    "\n",
    "  "
   ]
  },
  {
   "cell_type": "markdown",
   "metadata": {},
   "source": [
    "# Read in the surveys"
   ]
  },
  {
   "cell_type": "code",
   "execution_count": 2,
   "metadata": {},
   "outputs": [],
   "source": [
    "all_survey = pd.read_csv(\"survey_all.txt\", delimiter=\"\\t\", encoding='windows-1252')\n",
    "d75_survey = pd.read_csv(\"survey_d75.txt\", delimiter=\"\\t\", encoding='windows-1252')\n",
    "survey = pd.concat([all_survey, d75_survey], axis=0, sort=True)\n",
    "\n",
    "survey[\"DBN\"] = survey[\"dbn\"]\n",
    "\n",
    "survey_fields = [\n",
    "    \"DBN\", \n",
    "    \"rr_s\", \n",
    "    \"rr_t\", \n",
    "    \"rr_p\", \n",
    "    \"N_s\", \n",
    "    \"N_t\", \n",
    "    \"N_p\", \n",
    "    \"saf_p_11\", \n",
    "    \"com_p_11\", \n",
    "    \"eng_p_11\", \n",
    "    \"aca_p_11\", \n",
    "    \"saf_t_11\", \n",
    "    \"com_t_11\", \n",
    "    \"eng_t_11\", \n",
    "    \"aca_t_11\", \n",
    "    \"saf_s_11\", \n",
    "    \"com_s_11\", \n",
    "    \"eng_s_11\", \n",
    "    \"aca_s_11\", \n",
    "    \"saf_tot_11\", \n",
    "    \"com_tot_11\", \n",
    "    \"eng_tot_11\", \n",
    "    \"aca_tot_11\",\n",
    "]\n",
    "survey = survey.loc[:,survey_fields]\n",
    "data[\"survey\"] = survey\n",
    "\n"
   ]
  },
  {
   "cell_type": "markdown",
   "metadata": {},
   "source": [
    "# Add DBN columns"
   ]
  },
  {
   "cell_type": "code",
   "execution_count": 3,
   "metadata": {},
   "outputs": [],
   "source": [
    "data[\"hs_directory\"][\"DBN\"] = data[\"hs_directory\"][\"dbn\"]\n",
    "\n",
    "def pad_csd(num):\n",
    "    string_representation = str(num)\n",
    "    if len(string_representation) > 1:\n",
    "        return string_representation\n",
    "    else:\n",
    "        return \"0\" + string_representation\n",
    "    \n",
    "data[\"class_size\"][\"padded_csd\"] = data[\"class_size\"][\"CSD\"].apply(pad_csd)\n",
    "data[\"class_size\"][\"DBN\"] = data[\"class_size\"][\"padded_csd\"] + data[\"class_size\"][\"SCHOOL CODE\"]"
   ]
  },
  {
   "cell_type": "markdown",
   "metadata": {},
   "source": [
    "# Convert columns to numeric"
   ]
  },
  {
   "cell_type": "code",
   "execution_count": 4,
   "metadata": {},
   "outputs": [],
   "source": [
    "cols = ['SAT Math Avg. Score', 'SAT Critical Reading Avg. Score', 'SAT Writing Avg. Score']\n",
    "for c in cols:\n",
    "    data[\"sat_results\"][c] = pd.to_numeric(data[\"sat_results\"][c], errors=\"coerce\")\n",
    "\n",
    "data['sat_results']['sat_score'] = data['sat_results'][cols[0]] + data['sat_results'][cols[1]] + data['sat_results'][cols[2]]\n",
    "\n",
    "def find_lat(loc):\n",
    "    coords = re.findall(\"\\(.+, .+\\)\", loc)\n",
    "    lat = coords[0].split(\",\")[0].replace(\"(\", \"\")\n",
    "    return lat\n",
    "\n",
    "def find_lon(loc):\n",
    "    coords = re.findall(\"\\(.+, .+\\)\", loc)\n",
    "    lon = coords[0].split(\",\")[1].replace(\")\", \"\").strip()\n",
    "    return lon\n",
    "\n",
    "data[\"hs_directory\"][\"lat\"] = data[\"hs_directory\"][\"Location 1\"].apply(find_lat)\n",
    "data[\"hs_directory\"][\"lon\"] = data[\"hs_directory\"][\"Location 1\"].apply(find_lon)\n",
    "\n",
    "data[\"hs_directory\"][\"lat\"] = pd.to_numeric(data[\"hs_directory\"][\"lat\"], errors=\"coerce\")\n",
    "data[\"hs_directory\"][\"lon\"] = pd.to_numeric(data[\"hs_directory\"][\"lon\"], errors=\"coerce\")"
   ]
  },
  {
   "cell_type": "markdown",
   "metadata": {},
   "source": [
    "# Condense datasets"
   ]
  },
  {
   "cell_type": "code",
   "execution_count": 5,
   "metadata": {},
   "outputs": [],
   "source": [
    "class_size = data[\"class_size\"]\n",
    "class_size = class_size[class_size[\"GRADE \"] == \"09-12\"]\n",
    "class_size = class_size[class_size[\"PROGRAM TYPE\"] == \"GEN ED\"]\n",
    "\n",
    "class_size = class_size.groupby(\"DBN\").agg(numpy.mean)\n",
    "class_size.reset_index(inplace=True)\n",
    "data[\"class_size\"] = class_size\n",
    "\n",
    "data[\"demographics\"] = data[\"demographics\"][data[\"demographics\"][\"schoolyear\"] == 20112012]\n",
    "\n",
    "data[\"graduation\"] = data[\"graduation\"][data[\"graduation\"][\"Cohort\"] == \"2006\"]\n",
    "data[\"graduation\"] = data[\"graduation\"][data[\"graduation\"][\"Demographic\"] == \"Total Cohort\"]"
   ]
  },
  {
   "cell_type": "markdown",
   "metadata": {},
   "source": [
    "# Convert AP scores to numeric"
   ]
  },
  {
   "cell_type": "code",
   "execution_count": 6,
   "metadata": {},
   "outputs": [],
   "source": [
    "cols = ['AP Test Takers ', 'Total Exams Taken', 'Number of Exams with scores 3 4 or 5']\n",
    "\n",
    "for col in cols:\n",
    "    data[\"ap_2010\"][col] = pd.to_numeric(data[\"ap_2010\"][col], errors=\"coerce\")"
   ]
  },
  {
   "cell_type": "markdown",
   "metadata": {},
   "source": [
    "# Combine the datasets"
   ]
  },
  {
   "cell_type": "code",
   "execution_count": 7,
   "metadata": {},
   "outputs": [],
   "source": [
    "combined = data[\"sat_results\"]\n",
    "\n",
    "combined = combined.merge(data[\"ap_2010\"], on=\"DBN\", how=\"left\")\n",
    "combined = combined.merge(data[\"graduation\"], on=\"DBN\", how=\"left\")\n",
    "\n",
    "to_merge = [\"class_size\", \"demographics\", \"survey\", \"hs_directory\"]\n",
    "\n",
    "for m in to_merge:\n",
    "    combined = combined.merge(data[m], on=\"DBN\", how=\"inner\")\n",
    "\n",
    "combined = combined.fillna(combined.mean())\n",
    "combined = combined.fillna(0)"
   ]
  },
  {
   "cell_type": "markdown",
   "metadata": {},
   "source": [
    "# Add a school district column for mapping"
   ]
  },
  {
   "cell_type": "code",
   "execution_count": 8,
   "metadata": {},
   "outputs": [],
   "source": [
    "def get_first_two_chars(dbn):\n",
    "    return dbn[0:2]\n",
    "\n",
    "combined[\"school_dist\"] = combined[\"DBN\"].apply(get_first_two_chars)"
   ]
  },
  {
   "cell_type": "markdown",
   "metadata": {},
   "source": [
    "# Find correlations"
   ]
  },
  {
   "cell_type": "code",
   "execution_count": 9,
   "metadata": {},
   "outputs": [
    {
     "name": "stdout",
     "output_type": "stream",
     "text": [
      "SAT Critical Reading Avg. Score    0.986820\n",
      "SAT Math Avg. Score                0.972643\n",
      "SAT Writing Avg. Score             0.987771\n",
      "sat_score                          1.000000\n",
      "AP Test Takers                     0.523140\n",
      "                                     ...   \n",
      "Census Tract                       0.048737\n",
      "BIN                                0.052232\n",
      "BBL                                0.044427\n",
      "lat                               -0.121029\n",
      "lon                               -0.132222\n",
      "Name: sat_score, Length: 85, dtype: float64\n"
     ]
    }
   ],
   "source": [
    "correlations = combined.corr()\n",
    "correlations = correlations[\"sat_score\"]\n",
    "print(correlations)"
   ]
  },
  {
   "cell_type": "markdown",
   "metadata": {},
   "source": [
    "# Plotting survey correlations"
   ]
  },
  {
   "cell_type": "code",
   "execution_count": 10,
   "metadata": {},
   "outputs": [],
   "source": [
    "# Remove DBN since it's a unique identifier, not a useful numerical value for correlation.\n",
    "survey_fields.remove(\"DBN\")"
   ]
  },
  {
   "cell_type": "code",
   "execution_count": 11,
   "metadata": {},
   "outputs": [
    {
     "data": {
      "text/plain": [
       "<matplotlib.axes._subplots.AxesSubplot at 0x114d220d0>"
      ]
     },
     "execution_count": 11,
     "metadata": {},
     "output_type": "execute_result"
    },
    {
     "data": {
      "image/png": "[encoded data removed]",
      "text/plain": [
       "<Figure size 432x288 with 1 Axes>"
      ]
     },
     "metadata": {
      "needs_background": "light"
     },
     "output_type": "display_data"
    }
   ],
   "source": [
    "%matplotlib inline\n",
    "combined.corr()[\"sat_score\"][survey_fields].plot.bar()"
   ]
  },
  {
   "cell_type": "markdown",
   "metadata": {},
   "source": [
    "There is a strong correlation between sat_scores and several factors. There are high correlations between N_s, N_t, N_p and sat_score. Since these columns are correlated with total_enrollment, it makes sense that they would be high.\n",
    "\n",
    "Another factor with high positive correlation is the saf_t_11 and saf_s_11 columns which feature teacher and student reported safety and respect. This is not a surprising outcome since one would expect school with higher academic standards and test scores to feature a safe environment for their students.\n",
    "\n",
    "The aca_s_11 and aca_t_11 columns represent academic expectations reported by the students and teachers. This correlation is also not surprising considering schools with higher standards and expectations can be expected to result in higher standardized test scores. "
   ]
  },
  {
   "cell_type": "code",
   "execution_count": 12,
   "metadata": {},
   "outputs": [
    {
     "data": {
      "image/png": "[encoded data removed]",
      "text/plain": [
       "<Figure size 432x288 with 1 Axes>"
      ]
     },
     "metadata": {
      "needs_background": "light"
     },
     "output_type": "display_data"
    }
   ],
   "source": [
    "fig, ax=plt.subplots()\n",
    "\n",
    "scatter=ax.scatter(combined[\"saf_s_11\"],combined[\"sat_score\"])\n",
    "plt.show()"
   ]
  },
  {
   "cell_type": "markdown",
   "metadata": {},
   "source": [
    "There is a weak positive correlation between safety and sat_scores. The correlation seems to be higher at the lower end of the spectrum for both categories. "
   ]
  },
  {
   "cell_type": "code",
   "execution_count": 13,
   "metadata": {},
   "outputs": [
    {
     "data": {
      "text/plain": [
       "<matplotlib.axes._subplots.AxesSubplot at 0x11590ae50>"
      ]
     },
     "execution_count": 13,
     "metadata": {},
     "output_type": "execute_result"
    },
    {
     "data": {
      "image/png": "[encoded data removed]",
      "text/plain": [
       "<Figure size 432x288 with 1 Axes>"
      ]
     },
     "metadata": {
      "needs_background": "light"
     },
     "output_type": "display_data"
    }
   ],
   "source": [
    "race_per = [\"white_per\",\"asian_per\",\"black_per\",\"hispanic_per\"]\n",
    "\n",
    "%matplotlib inline\n",
    "combined.corr()[\"sat_score\"][race_per].plot.bar()\n"
   ]
  },
  {
   "cell_type": "markdown",
   "metadata": {},
   "source": [
    "With sat scores, there is a strong positive correlation between the percentage of white and asian students and a negative correlation with black and hispanic students. This is not a surprising outcome since stucks from black and hispanic families tend to come from poorer backgrounds and therefore are more likely to like in underperforming school districts. "
   ]
  },
  {
   "cell_type": "code",
   "execution_count": 14,
   "metadata": {},
   "outputs": [
    {
     "data": {
      "image/png": "[encoded data removed]",
      "text/plain": [
       "<Figure size 432x288 with 1 Axes>"
      ]
     },
     "metadata": {
      "needs_background": "light"
     },
     "output_type": "display_data"
    }
   ],
   "source": [
    "fig, ax=plt.subplots()\n",
    "scatter = ax.scatter(combined[\"hispanic_per\"], combined[\"sat_score\"])\n",
    "plt.show()"
   ]
  },
  {
   "cell_type": "markdown",
   "metadata": {},
   "source": [
    "There is an evident negative correlation accorinding to the scatterplot with a few, and more specifically, one outlier on top with the highest score(s) belonging to the school with the lower percentage of hispanic students."
   ]
  },
  {
   "cell_type": "code",
   "execution_count": 15,
   "metadata": {},
   "outputs": [
    {
     "name": "stdout",
     "output_type": "stream",
     "text": [
      "44                         MANHATTAN BRIDGES HIGH SCHOOL\n",
      "89     GREGORIO LUPERON HIGH SCHOOL FOR SCIENCE AND M...\n",
      "125                  ACADEMY FOR LANGUAGE AND TECHNOLOGY\n",
      "141                INTERNATIONAL SCHOOL FOR LIBERAL ARTS\n",
      "176     PAN AMERICAN INTERNATIONAL HIGH SCHOOL AT MONROE\n",
      "253                            MULTICULTURAL HIGH SCHOOL\n",
      "286               PAN AMERICAN INTERNATIONAL HIGH SCHOOL\n",
      "Name: SCHOOL NAME, dtype: object\n"
     ]
    }
   ],
   "source": [
    "print(combined[combined[\"hispanic_per\"] > 99][\"SCHOOL NAME\"])\n"
   ]
  },
  {
   "cell_type": "markdown",
   "metadata": {},
   "source": [
    "The scores seems to host mostly recent immigrants to the US who may have limited language abilities which would explain the lower SAT scores. "
   ]
  },
  {
   "cell_type": "code",
   "execution_count": 16,
   "metadata": {},
   "outputs": [
    {
     "name": "stdout",
     "output_type": "stream",
     "text": [
      "37                                STUYVESANT HIGH SCHOOL\n",
      "151                         BRONX HIGH SCHOOL OF SCIENCE\n",
      "187                       BROOKLYN TECHNICAL HIGH SCHOOL\n",
      "327    QUEENS HIGH SCHOOL FOR THE SCIENCES AT YORK CO...\n",
      "356                  STATEN ISLAND TECHNICAL HIGH SCHOOL\n",
      "Name: SCHOOL NAME, dtype: object\n"
     ]
    }
   ],
   "source": [
    "low_hisp=combined[combined[\"hispanic_per\"] < 10]\n",
    "low_h_high_s=low_hisp[low_hisp[\"sat_score\"]>1800]\n",
    "\n",
    "print(low_h_high_s[\"SCHOOL NAME\"])"
   ]
  },
  {
   "cell_type": "markdown",
   "metadata": {},
   "source": [
    "The schools on this list feature rigourus academic standards and a few of them have an entrance examination as an admissions requirement which would weed out the students who were low performers or had weaker language abilities. "
   ]
  },
  {
   "cell_type": "code",
   "execution_count": 17,
   "metadata": {},
   "outputs": [
    {
     "data": {
      "text/plain": [
       "<matplotlib.axes._subplots.AxesSubplot at 0x114891a90>"
      ]
     },
     "execution_count": 17,
     "metadata": {},
     "output_type": "execute_result"
    },
    {
     "data": {
      "image/png": "[encoded data removed]",
      "text/plain": [
       "<Figure size 432x288 with 1 Axes>"
      ]
     },
     "metadata": {
      "needs_background": "light"
     },
     "output_type": "display_data"
    }
   ],
   "source": [
    "gender=[\"male_per\",\"female_per\"]\n",
    "\n",
    "%matplotlib inline\n",
    "combined.corr()[\"sat_score\"][gender].plot.bar()"
   ]
  },
  {
   "cell_type": "markdown",
   "metadata": {},
   "source": [
    "There is a negative correlation between the percentage of male test takes and a positive one between female test takes signifying that women, on average, score higher on the SAT. However, this is is a week correlation. "
   ]
  },
  {
   "cell_type": "code",
   "execution_count": 18,
   "metadata": {},
   "outputs": [
    {
     "name": "stdout",
     "output_type": "stream",
     "text": [
      "15     URBAN ASSEMBLY SCHOOL OF BUSINESS FOR YOUNG WO...\n",
      "49                 THE HIGH SCHOOL OF FASHION INDUSTRIES\n",
      "70                       YOUNG WOMEN'S LEADERSHIP SCHOOL\n",
      "71                       YOUNG WOMEN'S LEADERSHIP SCHOOL\n",
      "104                        WOMEN'S ACADEMY OF EXCELLENCE\n",
      "133                     HIGH SCHOOL FOR VIOLIN AND DANCE\n",
      "137    THE MARIE CURIE SCHOOL FOR MEDICINE, NURSING, ...\n",
      "191    URBAN ASSEMBLY INSTITUTE OF MATH AND SCIENCE F...\n",
      "264       THE URBAN ASSEMBLY SCHOOL FOR CRIMINAL JUSTICE\n",
      "329              YOUNG WOMEN'S LEADERSHIP SCHOOL, QUEENS\n",
      "338             YOUNG WOMEN'S LEADERSHIP SCHOOL, ASTORIA\n",
      "Name: SCHOOL NAME, dtype: object\n"
     ]
    }
   ],
   "source": [
    "high_female = combined[combined[\"female_per\"]>80][\"SCHOOL NAME\"]\n",
    "print(high_female)"
   ]
  },
  {
   "cell_type": "code",
   "execution_count": 19,
   "metadata": {},
   "outputs": [
    {
     "data": {
      "image/png": "[encoded data removed]",
      "text/plain": [
       "<Figure size 432x288 with 1 Axes>"
      ]
     },
     "metadata": {
      "needs_background": "light"
     },
     "output_type": "display_data"
    }
   ],
   "source": [
    "combined.plot.scatter(\"female_per\", \"sat_score\")\n",
    "plt.show()"
   ]
  },
  {
   "cell_type": "markdown",
   "metadata": {},
   "source": [
    "This scatter plot confirms a weak correlation. "
   ]
  },
  {
   "cell_type": "code",
   "execution_count": 20,
   "metadata": {},
   "outputs": [
    {
     "name": "stdout",
     "output_type": "stream",
     "text": [
      "5                         BARD HIGH SCHOOL EARLY COLLEGE\n",
      "26                         ELEANOR ROOSEVELT HIGH SCHOOL\n",
      "60                                    BEACON HIGH SCHOOL\n",
      "61     FIORELLO H. LAGUARDIA HIGH SCHOOL OF MUSIC & A...\n",
      "302                          TOWNSEND HARRIS HIGH SCHOOL\n",
      "Name: SCHOOL NAME, dtype: object\n"
     ]
    }
   ],
   "source": [
    "high_female = combined[combined[\"female_per\"]>60]\n",
    "high_f_high_s=high_female[high_female[\"sat_score\"]>1700]\n",
    "\n",
    "print(high_f_high_s[\"SCHOOL NAME\"])\n"
   ]
  },
  {
   "cell_type": "markdown",
   "metadata": {},
   "source": [
    "These schools seem to have rigorous standards and to be highly selective. "
   ]
  },
  {
   "cell_type": "code",
   "execution_count": 21,
   "metadata": {},
   "outputs": [
    {
     "data": {
      "text/plain": [
       "<bound method IndexOpsMixin.value_counts of 0       422\n",
       "1       394\n",
       "2       598\n",
       "3       367\n",
       "4      1613\n",
       "       ... \n",
       "358     606\n",
       "359     434\n",
       "360     398\n",
       "361     263\n",
       "362     462\n",
       "Name: total_enrollment, Length: 363, dtype: int64>"
      ]
     },
     "execution_count": 21,
     "metadata": {},
     "output_type": "execute_result"
    }
   ],
   "source": [
    "combined[\"total_enrollment\"].value_counts"
   ]
  },
  {
   "cell_type": "code",
   "execution_count": 22,
   "metadata": {},
   "outputs": [
    {
     "data": {
      "text/plain": [
       "<matplotlib.axes._subplots.AxesSubplot at 0x11565c150>"
      ]
     },
     "execution_count": 22,
     "metadata": {},
     "output_type": "execute_result"
    },
    {
     "data": {
      "image/png": "[encoded data removed]",
      "text/plain": [
       "<Figure size 432x288 with 1 Axes>"
      ]
     },
     "metadata": {
      "needs_background": "light"
     },
     "output_type": "display_data"
    }
   ],
   "source": [
    "combined.plot.scatter(\"sat_score\", \"total_enrollment\")\n"
   ]
  },
  {
   "cell_type": "code",
   "execution_count": 23,
   "metadata": {},
   "outputs": [
    {
     "data": {
      "image/png": "[encoded data removed]",
      "text/plain": [
       "<Figure size 432x288 with 1 Axes>"
      ]
     },
     "metadata": {
      "needs_background": "light"
     },
     "output_type": "display_data"
    }
   ],
   "source": [
    "ap_per = combined[\"AP Test Takers \"]/combined[\"total_enrollment\"]\n",
    "fig, ax=plt.subplots()\n",
    "scatter = ax.scatter(combined[\"sat_score\"], ap_per)\n",
    "plt.show()"
   ]
  },
  {
   "cell_type": "markdown",
   "metadata": {},
   "source": [
    "Although some correlation can be seen via the scatterplot, it is a very weak one. "
   ]
  },
  {
   "cell_type": "code",
   "execution_count": 24,
   "metadata": {},
   "outputs": [
    {
     "data": {
      "text/plain": [
       "02    48\n",
       "10    22\n",
       "09    20\n",
       "11    15\n",
       "14    14\n",
       "17    14\n",
       "07    13\n",
       "24    13\n",
       "13    13\n",
       "19    12\n",
       "12    12\n",
       "03    12\n",
       "28    11\n",
       "21    11\n",
       "08    11\n",
       "18    11\n",
       "06    10\n",
       "27    10\n",
       "31    10\n",
       "30     9\n",
       "15     9\n",
       "25     8\n",
       "29     8\n",
       "05     7\n",
       "04     7\n",
       "01     6\n",
       "32     6\n",
       "20     5\n",
       "26     5\n",
       "16     4\n",
       "22     4\n",
       "23     3\n",
       "Name: school_dist, dtype: int64"
      ]
     },
     "execution_count": 24,
     "metadata": {},
     "output_type": "execute_result"
    }
   ],
   "source": [
    "combined[\"school_dist\"].value_counts()"
   ]
  },
  {
   "cell_type": "code",
   "execution_count": 25,
   "metadata": {},
   "outputs": [
    {
     "data": {
      "text/plain": [
       "23.020000    2\n",
       "25.042857    2\n",
       "25.257143    2\n",
       "25.711765    2\n",
       "21.356250    2\n",
       "            ..\n",
       "25.850000    1\n",
       "20.975000    1\n",
       "21.850000    1\n",
       "23.921053    1\n",
       "21.312500    1\n",
       "Name: AVERAGE CLASS SIZE, Length: 354, dtype: int64"
      ]
     },
     "execution_count": 25,
     "metadata": {},
     "output_type": "execute_result"
    }
   ],
   "source": [
    "combined[\"AVERAGE CLASS SIZE\"].value_counts()"
   ]
  },
  {
   "cell_type": "code",
   "execution_count": 26,
   "metadata": {},
   "outputs": [
    {
     "data": {
      "image/png": "[encoded data removed]",
      "text/plain": [
       "<Figure size 432x288 with 1 Axes>"
      ]
     },
     "metadata": {
      "needs_background": "light"
     },
     "output_type": "display_data"
    }
   ],
   "source": [
    "fig, ax=plt.subplots()\n",
    "scatter = ax.scatter(combined[\"sat_score\"], combined[\"AVERAGE CLASS SIZE\"])\n",
    "plt.show()"
   ]
  },
  {
   "cell_type": "markdown",
   "metadata": {},
   "source": [
    "Although some correlation can be seen via the scatterplot as well, it is a very weak one. "
   ]
  },
  {
   "cell_type": "code",
   "execution_count": 27,
   "metadata": {},
   "outputs": [
    {
     "name": "stdout",
     "output_type": "stream",
     "text": [
      "DBN\n",
      "SCHOOL NAME\n",
      "Num of SAT Test Takers\n",
      "SAT Critical Reading Avg. Score\n",
      "SAT Math Avg. Score\n",
      "SAT Writing Avg. Score\n",
      "sat_score\n",
      "SchoolName\n",
      "AP Test Takers \n",
      "Total Exams Taken\n",
      "Number of Exams with scores 3 4 or 5\n",
      "Demographic\n",
      "School Name\n",
      "Cohort\n",
      "Total Cohort\n",
      "Total Grads - n\n",
      "Total Grads - % of cohort\n",
      "Total Regents - n\n",
      "Total Regents - % of cohort\n",
      "Total Regents - % of grads\n",
      "Advanced Regents - n\n",
      "Advanced Regents - % of cohort\n",
      "Advanced Regents - % of grads\n",
      "Regents w/o Advanced - n\n",
      "Regents w/o Advanced - % of cohort\n",
      "Regents w/o Advanced - % of grads\n",
      "Local - n\n",
      "Local - % of cohort\n",
      "Local - % of grads\n",
      "Still Enrolled - n\n",
      "Still Enrolled - % of cohort\n",
      "Dropped Out - n\n",
      "Dropped Out - % of cohort\n",
      "CSD\n",
      "NUMBER OF STUDENTS / SEATS FILLED\n",
      "NUMBER OF SECTIONS\n",
      "AVERAGE CLASS SIZE\n",
      "SIZE OF SMALLEST CLASS\n",
      "SIZE OF LARGEST CLASS\n",
      "SCHOOLWIDE PUPIL-TEACHER RATIO\n",
      "Name\n",
      "schoolyear\n",
      "fl_percent\n",
      "frl_percent\n",
      "total_enrollment\n",
      "prek\n",
      "k\n",
      "grade1\n",
      "grade2\n",
      "grade3\n",
      "grade4\n",
      "grade5\n",
      "grade6\n",
      "grade7\n",
      "grade8\n",
      "grade9\n",
      "grade10\n",
      "grade11\n",
      "grade12\n",
      "ell_num\n",
      "ell_percent\n",
      "sped_num\n",
      "sped_percent\n",
      "ctt_num\n",
      "selfcontained_num\n",
      "asian_num\n",
      "asian_per\n",
      "black_num\n",
      "black_per\n",
      "hispanic_num\n",
      "hispanic_per\n",
      "white_num\n",
      "white_per\n",
      "male_num\n",
      "male_per\n",
      "female_num\n",
      "female_per\n",
      "rr_s\n",
      "rr_t\n",
      "rr_p\n",
      "N_s\n",
      "N_t\n",
      "N_p\n",
      "saf_p_11\n",
      "com_p_11\n",
      "eng_p_11\n",
      "aca_p_11\n",
      "saf_t_11\n",
      "com_t_11\n",
      "eng_t_11\n",
      "aca_t_11\n",
      "saf_s_11\n",
      "com_s_11\n",
      "eng_s_11\n",
      "aca_s_11\n",
      "saf_tot_11\n",
      "com_tot_11\n",
      "eng_tot_11\n",
      "aca_tot_11\n",
      "dbn\n",
      "school_name\n",
      "borough\n",
      "building_code\n",
      "phone_number\n",
      "fax_number\n",
      "grade_span_min\n",
      "grade_span_max\n",
      "expgrade_span_min\n",
      "expgrade_span_max\n",
      "bus\n",
      "subway\n",
      "primary_address_line_1\n",
      "city\n",
      "state_code\n",
      "postcode\n",
      "website\n",
      "total_students\n",
      "campus_name\n",
      "school_type\n",
      "overview_paragraph\n",
      "program_highlights\n",
      "language_classes\n",
      "advancedplacement_courses\n",
      "online_ap_courses\n",
      "online_language_courses\n",
      "extracurricular_activities\n",
      "psal_sports_boys\n",
      "psal_sports_girls\n",
      "psal_sports_coed\n",
      "school_sports\n",
      "partner_cbo\n",
      "partner_hospital\n",
      "partner_highered\n",
      "partner_cultural\n",
      "partner_nonprofit\n",
      "partner_corporate\n",
      "partner_financial\n",
      "partner_other\n",
      "addtl_info1\n",
      "addtl_info2\n",
      "start_time\n",
      "end_time\n",
      "se_services\n",
      "ell_programs\n",
      "school_accessibility_description\n",
      "number_programs\n",
      "priority01\n",
      "priority02\n",
      "priority03\n",
      "priority04\n",
      "priority05\n",
      "priority06\n",
      "priority07\n",
      "priority08\n",
      "priority09\n",
      "priority10\n",
      "Location 1\n",
      "Community Board\n",
      "Council District\n",
      "Census Tract\n",
      "BIN\n",
      "BBL\n",
      "NTA\n",
      "lat\n",
      "lon\n",
      "school_dist\n"
     ]
    }
   ],
   "source": [
    "for col in combined:\n",
    "    print(col)"
   ]
  },
  {
   "cell_type": "code",
   "execution_count": 28,
   "metadata": {
    "scrolled": true
   },
   "outputs": [
    {
     "data": {
      "image/png": "[encoded data removed]",
      "text/plain": [
       "<Figure size 432x288 with 1 Axes>"
      ]
     },
     "metadata": {
      "needs_background": "light"
     },
     "output_type": "display_data"
    }
   ],
   "source": [
    "import matplotlib.pyplot as plt\n",
    "from numpy import arange\n",
    "import numpy as np\n",
    "%matplotlib inline\n",
    "\n",
    "\n",
    "saf_t_mean=combined[\"saf_t_11\"].mean()\n",
    "saf_s_mean=combined[\"saf_s_11\"].mean()\n",
    "saf_p_mean=combined[\"saf_p_11\"].mean()\n",
    "\n",
    "aca_t_mean=combined[\"aca_t_11\"].mean()\n",
    "aca_s_mean=combined[\"aca_s_11\"].mean()\n",
    "aca_p_mean=combined[\"aca_p_11\"].mean()\n",
    "\n",
    "com_t_mean=combined[\"com_t_11\"].mean()\n",
    "com_s_mean=combined[\"com_s_11\"].mean()\n",
    "com_p_mean=combined[\"com_p_11\"].mean()\n",
    "\n",
    "eng_t_mean=combined[\"eng_t_11\"].mean()\n",
    "eng_s_mean=combined[\"eng_s_11\"].mean()\n",
    "eng_p_mean=combined[\"eng_p_11\"].mean()\n",
    "\n",
    "\n",
    "comm_cols=[com_p_mean,com_s_mean,com_t_mean]\n",
    "saf_cols=[com_p_mean,com_s_mean,com_t_mean]\n",
    "aca_cols=[aca_p_mean,aca_s_mean,aca_t_mean]\n",
    "eng_cols=[eng_p_mean,eng_s_mean,eng_t_mean]\n",
    "\n",
    "col_names = [\"Parents\",\"Students\",\"Teachers\"]\n",
    "\n",
    "total_cols = comm_cols,saf_cols,aca_cols\n",
    "index = np.arange(len(total_cols))\n",
    "score_label = np.arange(0,11,1)\n",
    "\n",
    "bar_width=0.15\n",
    "\n",
    "fig, ax = plt.subplots()\n",
    "bar_comm = ax.bar(index - bar_width/0.7, comm_cols, bar_width, label = \"Communication\" )\n",
    "bar_safety = ax.bar(index, saf_cols, bar_width, label = \"Safety\" )\n",
    "bar_aca = ax.bar(index + bar_width/0.4, aca_cols, bar_width, label = \"Academics\" )\n",
    "bar_eng= ax.bar(index + bar_width/0.8, eng_cols, bar_width, label = \"Engagement\" )\n",
    "\n",
    "tick_positions = range(1,10)\n",
    "\n",
    "ax.set_xticks(index)\n",
    "ax.set_xticklabels(col_names, rotation=90)\n",
    "\n",
    "\n",
    "ax.set_yticklabels(score_label)\n",
    "ax.set_yticks(score_label)\n",
    "\n",
    "ax.set_xlabel(\"Respondant Type\")\n",
    "ax.set_ylabel(\"Average Rating\")\n",
    "ax.set_title(\"Parent, Teacher, and Student Responses\")\n",
    "\n",
    "ax.legend()\n",
    "\n",
    "plt.show()"
   ]
  },
  {
   "cell_type": "markdown",
   "metadata": {},
   "source": [
    "Although some analysis can be gathered from this graph, it is important to note that in the future, one must pay more attention to what they are trying to compare. In this instance, we want to compare the different responses between students, parents, and teachers. It would then  be helpful to include each of the four categories on the x-axis with one column for each respondant group. \n",
    "\n",
    "The following will put together a series of graphs for easier comparison. "
   ]
  },
  {
   "cell_type": "code",
   "execution_count": 29,
   "metadata": {},
   "outputs": [
    {
     "data": {
      "image/png": "[encoded data removed]",
      "text/plain": [
       "<Figure size 1080x720 with 4 Axes>"
      ]
     },
     "metadata": {
      "needs_background": "light"
     },
     "output_type": "display_data"
    }
   ],
   "source": [
    "\n",
    "fig = plt.figure(figsize=(15, 10))\n",
    "ax1 = fig.add_subplot(2,2,1)\n",
    "ax2 = fig.add_subplot(2,2,2)\n",
    "ax3 = fig.add_subplot(2,2,3)\n",
    "ax4 = fig.add_subplot(2,2,4)\n",
    "\n",
    "##First bar for communication \n",
    "\n",
    "bar_comm_p = ax1.bar(index - bar_width/1, com_p_mean, bar_width, label = \"Parents\" )\n",
    "bar_comm_s = ax1.bar(index, com_s_mean, bar_width, label = \"Students\" )\n",
    "bar_comm = ax1.bar(index + bar_width/1, com_t_mean, bar_width, label = \"Teachers\" )\n",
    "\n",
    "ax.legend()\n",
    "tick_positions = range(1,10)\n",
    "\n",
    "ax1.set_xticks(index)\n",
    "\n",
    "ax1.set_yticklabels(score_label)\n",
    "ax1.set_yticks(score_label)\n",
    "\n",
    "ax1.set_xlabel(\"Communication\")\n",
    "ax1.set_ylabel(\"Average Rating\")\n",
    "\n",
    "ax1.legend()\n",
    "\n",
    "plt.gca().set_xticks([])\n",
    "plt.xticks([])\n",
    "ax1.set_xticks([])\n",
    "\n",
    "##Second Graph for Engagement##\n",
    "bar_aca_p = ax2.bar(index - bar_width/1, eng_p_mean, bar_width, label = \"Parents\" )\n",
    "bar_aca_s = ax2.bar(index, eng_s_mean, bar_width, label = \"Students\" )\n",
    "bar_aca_t = ax2.bar(index + bar_width/1, eng_t_mean, bar_width, label = \"Teachers\" )\n",
    "\n",
    "ax2.legend()\n",
    "tick_positions = range(1,10)\n",
    "\n",
    "ax2.set_xticks(index)\n",
    "ax2.set_xticklabels(col_names, rotation=90)\n",
    "\n",
    "\n",
    "ax2.set_yticklabels(score_label)\n",
    "ax2.set_yticks(score_label)\n",
    "\n",
    "ax2.set_xlabel(\"Engagement\")\n",
    "ax2.set_ylabel(\"Average Rating\")\n",
    "\n",
    "ax2.legend()\n",
    "\n",
    "plt.gca().set_xticks([])\n",
    "plt.xticks([])\n",
    "ax2.set_xticks([])\n",
    "\n",
    "##Third Graph--> Academics \n",
    "bar_aca_p = ax3.bar(index - bar_width/1, aca_p_mean, bar_width, label = \"Parents\" )\n",
    "bar_aca_s = ax3.bar(index, aca_s_mean, bar_width, label = \"Students\" )\n",
    "bar_aca_t = ax3.bar(index + bar_width/1, aca_t_mean, bar_width, label = \"Teachers\" )\n",
    "\n",
    "ax3.legend()\n",
    "tick_positions = range(1,10)\n",
    "\n",
    "ax3.set_xticks(index)\n",
    "ax3.set_xticklabels(col_names, rotation=90)\n",
    "\n",
    "\n",
    "ax3.set_yticklabels(score_label)\n",
    "ax3.set_yticks(score_label)\n",
    "\n",
    "ax3.set_xlabel(\"Academics\")\n",
    "ax3.set_ylabel(\"Average Rating\")\n",
    "\n",
    "ax3.legend()\n",
    "\n",
    "plt.gca().set_xticks([])\n",
    "plt.xticks([])\n",
    "ax3.set_xticks([])\n",
    "\n",
    "\n",
    "##Fourth Graph-->Safety \n",
    "bar_saf_p = ax4.bar(index - bar_width/1, saf_p_mean, bar_width, label = \"Parents\" )\n",
    "bar_saf_s = ax4.bar(index, saf_s_mean, bar_width, label = \"Students\" )\n",
    "bar_saf_t = ax4.bar(index + bar_width/1, saf_t_mean, bar_width, label = \"Teachers\" )\n",
    "\n",
    "ax4.legend()\n",
    "tick_positions = range(1,10)\n",
    "\n",
    "ax4.set_xticks(index)\n",
    "ax4.set_xticklabels(col_names, rotation=90)\n",
    "\n",
    "\n",
    "ax4.set_yticklabels(score_label)\n",
    "ax4.set_yticks(score_label)\n",
    "\n",
    "ax4.set_xlabel(\"Safety\")\n",
    "ax4.set_ylabel(\"Average Rating\")\n",
    "\n",
    "ax4.legend()\n",
    "\n",
    "plt.gca().set_xticks([])\n",
    "plt.xticks([])\n",
    "ax4.set_xticks([])\n",
    "\n",
    "\n",
    "plt.show()\n",
    "\n",
    "\n",
    "\n",
    "\n",
    "\n",
    "\n"
   ]
  },
  {
   "cell_type": "markdown",
   "metadata": {},
   "source": [
    "Now that there is a clearer visualization, it is easy to see that parents respond with higher scores for all the above categories while students respond with the lowest, and teachers scores range somewhere in between. Since they deal directly with institutions, often for longer periods of time, it may be reasonable to take look at teacher's score when assessing the overall performance of the school. \n"
   ]
  },
  {
   "cell_type": "markdown",
   "metadata": {},
   "source": [
    "It would not be interesting to figure out which neighborhoods have the best schools and to find the least expensive neighborhoods with the best schools.  "
   ]
  },
  {
   "cell_type": "code",
   "execution_count": 30,
   "metadata": {},
   "outputs": [
    {
     "name": "stdout",
     "output_type": "stream",
     "text": [
      "DBN\n",
      "SCHOOL NAME\n",
      "Num of SAT Test Takers\n",
      "SAT Critical Reading Avg. Score\n",
      "SAT Math Avg. Score\n",
      "SAT Writing Avg. Score\n",
      "sat_score\n",
      "SchoolName\n",
      "AP Test Takers \n",
      "Total Exams Taken\n",
      "Number of Exams with scores 3 4 or 5\n",
      "Demographic\n",
      "School Name\n",
      "Cohort\n",
      "Total Cohort\n",
      "Total Grads - n\n",
      "Total Grads - % of cohort\n",
      "Total Regents - n\n",
      "Total Regents - % of cohort\n",
      "Total Regents - % of grads\n",
      "Advanced Regents - n\n",
      "Advanced Regents - % of cohort\n",
      "Advanced Regents - % of grads\n",
      "Regents w/o Advanced - n\n",
      "Regents w/o Advanced - % of cohort\n",
      "Regents w/o Advanced - % of grads\n",
      "Local - n\n",
      "Local - % of cohort\n",
      "Local - % of grads\n",
      "Still Enrolled - n\n",
      "Still Enrolled - % of cohort\n",
      "Dropped Out - n\n",
      "Dropped Out - % of cohort\n",
      "CSD\n",
      "NUMBER OF STUDENTS / SEATS FILLED\n",
      "NUMBER OF SECTIONS\n",
      "AVERAGE CLASS SIZE\n",
      "SIZE OF SMALLEST CLASS\n",
      "SIZE OF LARGEST CLASS\n",
      "SCHOOLWIDE PUPIL-TEACHER RATIO\n",
      "Name\n",
      "schoolyear\n",
      "fl_percent\n",
      "frl_percent\n",
      "total_enrollment\n",
      "prek\n",
      "k\n",
      "grade1\n",
      "grade2\n",
      "grade3\n",
      "grade4\n",
      "grade5\n",
      "grade6\n",
      "grade7\n",
      "grade8\n",
      "grade9\n",
      "grade10\n",
      "grade11\n",
      "grade12\n",
      "ell_num\n",
      "ell_percent\n",
      "sped_num\n",
      "sped_percent\n",
      "ctt_num\n",
      "selfcontained_num\n",
      "asian_num\n",
      "asian_per\n",
      "black_num\n",
      "black_per\n",
      "hispanic_num\n",
      "hispanic_per\n",
      "white_num\n",
      "white_per\n",
      "male_num\n",
      "male_per\n",
      "female_num\n",
      "female_per\n",
      "rr_s\n",
      "rr_t\n",
      "rr_p\n",
      "N_s\n",
      "N_t\n",
      "N_p\n",
      "saf_p_11\n",
      "com_p_11\n",
      "eng_p_11\n",
      "aca_p_11\n",
      "saf_t_11\n",
      "com_t_11\n",
      "eng_t_11\n",
      "aca_t_11\n",
      "saf_s_11\n",
      "com_s_11\n",
      "eng_s_11\n",
      "aca_s_11\n",
      "saf_tot_11\n",
      "com_tot_11\n",
      "eng_tot_11\n",
      "aca_tot_11\n",
      "dbn\n",
      "school_name\n",
      "borough\n",
      "building_code\n",
      "phone_number\n",
      "fax_number\n",
      "grade_span_min\n",
      "grade_span_max\n",
      "expgrade_span_min\n",
      "expgrade_span_max\n",
      "bus\n",
      "subway\n",
      "primary_address_line_1\n",
      "city\n",
      "state_code\n",
      "postcode\n",
      "website\n",
      "total_students\n",
      "campus_name\n",
      "school_type\n",
      "overview_paragraph\n",
      "program_highlights\n",
      "language_classes\n",
      "advancedplacement_courses\n",
      "online_ap_courses\n",
      "online_language_courses\n",
      "extracurricular_activities\n",
      "psal_sports_boys\n",
      "psal_sports_girls\n",
      "psal_sports_coed\n",
      "school_sports\n",
      "partner_cbo\n",
      "partner_hospital\n",
      "partner_highered\n",
      "partner_cultural\n",
      "partner_nonprofit\n",
      "partner_corporate\n",
      "partner_financial\n",
      "partner_other\n",
      "addtl_info1\n",
      "addtl_info2\n",
      "start_time\n",
      "end_time\n",
      "se_services\n",
      "ell_programs\n",
      "school_accessibility_description\n",
      "number_programs\n",
      "priority01\n",
      "priority02\n",
      "priority03\n",
      "priority04\n",
      "priority05\n",
      "priority06\n",
      "priority07\n",
      "priority08\n",
      "priority09\n",
      "priority10\n",
      "Location 1\n",
      "Community Board\n",
      "Council District\n",
      "Census Tract\n",
      "BIN\n",
      "BBL\n",
      "NTA\n",
      "lat\n",
      "lon\n",
      "school_dist\n"
     ]
    }
   ],
   "source": [
    "for i in combined:\n",
    "    print(i)"
   ]
  },
  {
   "cell_type": "code",
   "execution_count": 54,
   "metadata": {
    "scrolled": true
   },
   "outputs": [
    {
     "data": {
      "text/plain": [
       "(363, 169)"
      ]
     },
     "execution_count": 54,
     "metadata": {},
     "output_type": "execute_result"
    }
   ],
   "source": [
    "combined[\"postcode\"].value_counts(dropna=False)\n",
    "combined.shape"
   ]
  },
  {
   "cell_type": "code",
   "execution_count": 32,
   "metadata": {},
   "outputs": [],
   "source": [
    "prop = data[\"property\"].copy()\n",
    "\n"
   ]
  },
  {
   "cell_type": "code",
   "execution_count": 33,
   "metadata": {},
   "outputs": [
    {
     "data": {
      "text/plain": [
       "NaN           15069\n",
       "1000.0         1659\n",
       "493000.0       1415\n",
       "504000.0       1414\n",
       "496000.0       1392\n",
       "              ...  \n",
       "60564.0           1\n",
       "383130.0          1\n",
       "383132.0          1\n",
       "15504301.0        1\n",
       "43037.0           1\n",
       "Name: fullval, Length: 133813, dtype: int64"
      ]
     },
     "execution_count": 33,
     "metadata": {},
     "output_type": "execute_result"
    }
   ],
   "source": [
    "prop.columns = prop.columns.str.lower()\n",
    "prop[\"fullval\"]=prop[\"fullval\"].replace(0.0,np.nan)\n",
    "prop[\"fullval\"].value_counts(dropna=False )\n"
   ]
  },
  {
   "cell_type": "code",
   "execution_count": 34,
   "metadata": {
    "scrolled": false
   },
   "outputs": [
    {
     "data": {
      "text/plain": [
       "10314.0    24996\n",
       "11234.0    20023\n",
       "10462.0    16899\n",
       "10306.0    16747\n",
       "11236.0    15745\n",
       "           ...  \n",
       "10118.0        1\n",
       "10115.0        1\n",
       "10110.0        1\n",
       "10107.0        1\n",
       "12345.0        1\n",
       "Name: postcode, Length: 231, dtype: int64"
      ]
     },
     "execution_count": 34,
     "metadata": {},
     "output_type": "execute_result"
    }
   ],
   "source": [
    "prop=prop.dropna(subset = [\"postcode\",\"fullval\"], how=\"any\")\n",
    "prop[\"postcode\"].value_counts()"
   ]
  },
  {
   "cell_type": "code",
   "execution_count": 35,
   "metadata": {
    "scrolled": true
   },
   "outputs": [],
   "source": [
    "prop[\"fullval\"]=prop[\"fullval\"].astype(\"int\")\n",
    "prop[\"postcode\"]=prop[\"postcode\"].astype(\"int\")\n"
   ]
  },
  {
   "cell_type": "code",
   "execution_count": 36,
   "metadata": {},
   "outputs": [],
   "source": [
    "gp=prop.groupby(\"postcode\").agg(np.mean)\n",
    "gp.reset_index(inplace=True) \n",
    "\n",
    "g_cols=[\"postcode\",\"latitude\",\"longitude\", \"fullval\"]\n",
    "\n",
    "gp=gp[g_cols]\n"
   ]
  },
  {
   "cell_type": "code",
   "execution_count": 37,
   "metadata": {},
   "outputs": [],
   "source": [
    "combined=combined.merge(gp,how=\"left\", on=\"postcode\")"
   ]
  },
  {
   "cell_type": "code",
   "execution_count": 38,
   "metadata": {
    "scrolled": true
   },
   "outputs": [
    {
     "data": {
      "text/plain": [
       "11101    12\n",
       "10457    11\n",
       "10002    11\n",
       "10456    10\n",
       "11201    10\n",
       "         ..\n",
       "10034     1\n",
       "10033     1\n",
       "10021     1\n",
       "10009     1\n",
       "10282     1\n",
       "Name: postcode, Length: 116, dtype: int64"
      ]
     },
     "execution_count": 38,
     "metadata": {},
     "output_type": "execute_result"
    }
   ],
   "source": [
    "combined[\"postcode\"].value_counts()"
   ]
  },
  {
   "cell_type": "code",
   "execution_count": 57,
   "metadata": {
    "scrolled": true
   },
   "outputs": [
    {
     "data": {
      "text/plain": [
       "1490211    12\n",
       "2608911    11\n",
       "1265427    11\n",
       "2396047    10\n",
       "1096677    10\n",
       "           ..\n",
       "1319666     1\n",
       "844712      1\n",
       "936651      1\n",
       "828105      1\n",
       "1510404     1\n",
       "Name: fullval, Length: 116, dtype: int64"
      ]
     },
     "execution_count": 57,
     "metadata": {},
     "output_type": "execute_result"
    }
   ],
   "source": [
    "combined[[\"postcode\",\"fullval\"]]\n",
    "combined[[\"fullval\"]]=combined[[\"fullval\"]].astype(\"int\")\n",
    "value_sorted=combined[\"fullval\"].sort_values(ascending=False)\n"
   ]
  },
  {
   "cell_type": "code",
   "execution_count": 87,
   "metadata": {
    "scrolled": false
   },
   "outputs": [
    {
     "name": "stdout",
     "output_type": "stream",
     "text": [
      "10301    2\n",
      "10314    2\n",
      "11433    1\n",
      "11416    1\n",
      "10469    1\n",
      "10306    1\n",
      "10312    1\n",
      "Name: postcode, dtype: int64\n"
     ]
    }
   ],
   "source": [
    "low_mark = combined[combined[\"fullval\"]<700000]\n",
    "low_m_high_s=low_mark[low_mark[\"sat_score\"]>1300]\n",
    "\n",
    "print(low_m_high_s[\"postcode\"].value_counts())"
   ]
  },
  {
   "cell_type": "markdown",
   "metadata": {},
   "source": [
    "According to the data available in the combined dataset, these zip codes belong to the schools with the highest SAT scores located in the cheapest districts according to market value of housing. These districts include Staten Island and Queens. "
   ]
  }
 ],
 "metadata": {
  "kernelspec": {
   "display_name": "Python 3",
   "language": "python",
   "name": "python3"
  },
  "language_info": {
   "codemirror_mode": {
    "name": "ipython",
    "version": 3
   },
   "file_extension": ".py",
   "mimetype": "text/x-python",
   "name": "python",
   "nbconvert_exporter": "python",
   "pygments_lexer": "ipython3",
   "version": "3.7.4"
  }
 },
 "nbformat": 4,
 "nbformat_minor": 2
}
